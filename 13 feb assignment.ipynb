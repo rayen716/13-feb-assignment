{
 "cells": [
  {
   "cell_type": "code",
   "execution_count": null,
   "id": "5f70541d",
   "metadata": {},
   "outputs": [],
   "source": [
    "Q1. Explain why we have to use the Exception class while creating a Custom Exception?\n",
    "Ans1. In Python, we can create custom exceptions by subclassing the built-in Exception class. When we create a custom exception, we are essentially creating a new type of error that can be raised in our code when certain conditions are met.\n",
    "When we create a custom exception by subclassing the Exception class, we can add additional attributes and methods to the exception as needed.\n",
    "\n",
    "class CustomException(Exception):\n",
    "    pass\n",
    "if x < 0:\n",
    "    raise CustomException(\"x cannot be negative\")\n"
   ]
  },
  {
   "cell_type": "code",
   "execution_count": null,
   "id": "4e706969",
   "metadata": {},
   "outputs": [],
   "source": [
    "Q2. Write a python program to print Python Exception Hierarchy?\n",
    "Ans2. def print_exception_hierarchy(exc_class, level=0):\n",
    "    print(' ' * level + exc_class.__name__)\n",
    "    for subclass in exc_class.__subclasses__():\n",
    "        print_exception_hierarchy(subclass, level + 1)\n",
    "\n",
    "print_exception_hierarchy(BaseException)\n"
   ]
  },
  {
   "cell_type": "code",
   "execution_count": null,
   "id": "fee62287",
   "metadata": {},
   "outputs": [],
   "source": [
    "Q3. What errors are defined in the ArithmeticError class? Explain any two with an example?\n",
    "Ans3. The ArithmeticError class is a subclass of the Exception class and is the base class for all exceptions that occur during arithmetic operations.\n",
    "ZeroDivisionError: \n",
    "    >>> a = 10\n",
    ">>> b = 0\n",
    ">>> c = a / b\n",
    "Traceback (most recent call last):\n",
    "  File \"<stdin>\", line 1, in <module>\n",
    "ZeroDivisionError: division by zero\n",
    "\n",
    "OverFlowError:\n",
    "    >>> import sys\n",
    ">>> sys.maxsize\n",
    "9223372036854775807\n",
    ">>> a = 2 ** 1000\n",
    "Traceback (most recent call last):\n",
    "  File \"<stdin>\", line 1, in <module>\n",
    "OverflowError: int too large to convert to float\n"
   ]
  },
  {
   "cell_type": "code",
   "execution_count": null,
   "id": "fd556d85",
   "metadata": {},
   "outputs": [],
   "source": [
    "Q4. Why LookupError class is used? Explain with an example KeyError and IndexError?\n",
    "Ans4. The LookupError class is a subclass of the Exception class and is the base class for all exceptions that occur when a key or index is not found.\n",
    "KeyError: This error occurs when we try to access a key that does not exist in a dictionary.\n",
    "d = {'a': 1, 'b': 2, 'c': 3}\n",
    "d['d']\n",
    "Traceback (most recent call last):\n",
    "  File \"<stdin>\", line 1, in <module>\n",
    "KeyError: 'd'\n",
    "\n",
    "IndexError: This error occurs when we try to access an index that is outside the bounds of a list, tuple, or other sequence.\n",
    "     l = [1, 2, 3]\n",
    "        l[3]\n",
    "Traceback (most recent call last):\n",
    "  File \"<stdin>\", line 1, in <module>\n",
    "IndexError: list index out of range\n"
   ]
  },
  {
   "cell_type": "code",
   "execution_count": null,
   "id": "14af0f4e",
   "metadata": {},
   "outputs": [],
   "source": [
    "Q5. Explain ImportError. What is ModuleNotFoundError?\n",
    "Ans5. ImportError is a class in Python's exception hierarchy that is raised when a module, package or any other object cannot be imported. It is a subclass of the Exception class.\n",
    "import non_existent_module\n",
    "Traceback (most recent call last):\n",
    "  File \"<stdin>\", line 1, in <module>\n",
    "ImportError: No module named 'non_existent_module'"
   ]
  },
  {
   "cell_type": "code",
   "execution_count": null,
   "id": "816b1518",
   "metadata": {},
   "outputs": [],
   "source": [
    "Q6. List down some best practices for exception handling in python?\n",
    "Ans6. (i)Handle specific exceptions: Always try to catch specific exceptions rather than using a generic Exception class. This helps in identifying the exact error and taking appropriate action.\n",
    "(ii)Keep the try block small: Keep the code inside the try block as small as possible. This helps in narrowing down the scope of the exception and makes debugging easier.\n",
    "(iii)Use finally block: Always use a finally block to ensure that resources like files, network connections, and database connections are properly closed, even if an exception is raised."
   ]
  }
 ],
 "metadata": {
  "kernelspec": {
   "display_name": "Python 3 (ipykernel)",
   "language": "python",
   "name": "python3"
  },
  "language_info": {
   "codemirror_mode": {
    "name": "ipython",
    "version": 3
   },
   "file_extension": ".py",
   "mimetype": "text/x-python",
   "name": "python",
   "nbconvert_exporter": "python",
   "pygments_lexer": "ipython3",
   "version": "3.9.13"
  }
 },
 "nbformat": 4,
 "nbformat_minor": 5
}
